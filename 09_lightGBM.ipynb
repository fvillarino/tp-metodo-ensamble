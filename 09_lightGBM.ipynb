{
  "nbformat": 4,
  "nbformat_minor": 0,
  "metadata": {
    "kernelspec": {
      "display_name": "Python 3",
      "language": "python",
      "name": "python3"
    },
    "language_info": {
      "codemirror_mode": {
        "name": "ipython",
        "version": 3
      },
      "file_extension": ".py",
      "mimetype": "text/x-python",
      "name": "python",
      "nbconvert_exporter": "python",
      "pygments_lexer": "ipython3",
      "version": "3.8.5"
    },
    "colab": {
      "name": "09-lightGBM-hyp-search.ipynb",
      "provenance": [],
      "include_colab_link": true
    },
    "accelerator": "GPU"
  },
  "cells": [
    {
      "cell_type": "markdown",
      "metadata": {
        "id": "view-in-github",
        "colab_type": "text"
      },
      "source": [
        "<a href=\"https://colab.research.google.com/github/fvillarino/tp-metodo-ensamble/blob/main/09_lightGBM.ipynb\" target=\"_parent\"><img src=\"https://colab.research.google.com/assets/colab-badge.svg\" alt=\"Open In Colab\"/></a>"
      ]
    },
    {
      "cell_type": "code",
      "metadata": {
        "id": "xqRn7T2pOZGv",
        "colab": {
          "base_uri": "https://localhost:8080/"
        },
        "outputId": "932edc6d-f1d9-4330-c6cc-39671d84324e"
      },
      "source": [
        "from tensorflow.compat.v1 import ConfigProto\n",
        "from tensorflow.compat.v1 import InteractiveSession\n",
        "config = ConfigProto()\n",
        "config.gpu_options.allow_growth = True\n",
        "session = InteractiveSession(config=config)"
      ],
      "execution_count": null,
      "outputs": [
        {
          "output_type": "stream",
          "text": [
            "/usr/local/lib/python3.7/dist-packages/tensorflow/python/client/session.py:1761: UserWarning: An interactive session is already active. This can cause out-of-memory errors in some cases. You must explicitly call `InteractiveSession.close()` to release resources held by the other session(s).\n",
            "  warnings.warn('An interactive session is already active. This can '\n"
          ],
          "name": "stderr"
        }
      ]
    },
    {
      "cell_type": "code",
      "metadata": {
        "colab": {
          "base_uri": "https://localhost:8080/"
        },
        "id": "QHRp_pZaOgRy",
        "outputId": "408d3ece-1060-4cfb-dfe7-11575ed9b960"
      },
      "source": [
        "from google.colab import drive\n",
        "drive.mount('/content/drive')"
      ],
      "execution_count": null,
      "outputs": [
        {
          "output_type": "stream",
          "text": [
            "Drive already mounted at /content/drive; to attempt to forcibly remount, call drive.mount(\"/content/drive\", force_remount=True).\n"
          ],
          "name": "stdout"
        }
      ]
    },
    {
      "cell_type": "code",
      "metadata": {
        "id": "0TGMMKe5R7oA"
      },
      "source": [
        "#!pip install pandas_summary"
      ],
      "execution_count": null,
      "outputs": []
    },
    {
      "cell_type": "markdown",
      "metadata": {
        "id": "3TqwIB1nOZG3"
      },
      "source": [
        "https://www.youtube.com/watch?v=1-NYPQw5THU&feature=youtu.be"
      ]
    },
    {
      "cell_type": "code",
      "metadata": {
        "id": "mrTvZBaJOZG4"
      },
      "source": [
        "import pandas as pd\n",
        "import numpy as np\n",
        "import datetime\n",
        "#from pandas_summary import DataFrameSummary"
      ],
      "execution_count": null,
      "outputs": []
    },
    {
      "cell_type": "code",
      "metadata": {
        "id": "_9CRNUlCzIsB"
      },
      "source": [
        "folder='drive/MyDrive/Colab Notebooks/Kaggle/Rossman/'"
      ],
      "execution_count": null,
      "outputs": []
    },
    {
      "cell_type": "code",
      "metadata": {
        "id": "BcRCF109OZG5"
      },
      "source": [
        "df = pd.read_feather(folder+'train_normalized_data.fth')\n",
        "df_test = pd.read_feather(folder+'test_normalized_data.fth')"
      ],
      "execution_count": null,
      "outputs": []
    },
    {
      "cell_type": "code",
      "metadata": {
        "id": "rpoSczD9OZG6"
      },
      "source": [
        "cat_vars = ['Store', 'DayOfWeek', 'Year', 'Month', 'Day', 'StateHoliday', 'CompetitionMonthsOpen', 'Promo2Weeks', \n",
        "            'StoreType', 'Assortment', 'PromoInterval', 'CompetitionOpenSinceYear', 'Promo2SinceYear', 'State', \n",
        "            'Week', 'Events', 'Promo_fw', 'Promo_bw', 'StateHoliday_bool_fw', 'StateHoliday_bool_bw', 'SchoolHoliday_fw', 'SchoolHoliday_bw']\n",
        "\n",
        "# cat_vars = ['Store', 'DayOfWeek', 'Year', 'Month', 'Day', 'State']\n"
      ],
      "execution_count": null,
      "outputs": []
    },
    {
      "cell_type": "code",
      "metadata": {
        "id": "8fvQwIvfOZG6"
      },
      "source": [
        "contin_vars = ['CompetitionDistance', \n",
        "   'Max_TemperatureC', 'Mean_TemperatureC', 'Min_TemperatureC', 'Precipitationmm',\n",
        "   'Max_Humidity', 'Mean_Humidity', 'Min_Humidity', 'Max_Wind_SpeedKm_h', \n",
        "   'Mean_Wind_SpeedKm_h', 'CloudCover', 'trend', 'trend_DE',\n",
        "   'AfterStateHoliday_bool', 'BeforeStateHoliday_bool', 'Promo', 'SchoolHoliday', 'StateHoliday_bool']\n",
        "# contin_vars = []"
      ],
      "execution_count": null,
      "outputs": []
    },
    {
      "cell_type": "code",
      "metadata": {
        "id": "AAqPiKBMOZG8"
      },
      "source": [
        "from lightgbm import LGBMRegressor"
      ],
      "execution_count": null,
      "outputs": []
    },
    {
      "cell_type": "code",
      "metadata": {
        "id": "41zp179NOZG9"
      },
      "source": [
        "y_out_columns = ['Sales']"
      ],
      "execution_count": null,
      "outputs": []
    },
    {
      "cell_type": "code",
      "metadata": {
        "id": "To5UCuWdOZG9"
      },
      "source": [
        "# split_type = 'random'\n",
        "# split_type = 'no_split'\n",
        "split_type = 'last_week'"
      ],
      "execution_count": null,
      "outputs": []
    },
    {
      "cell_type": "code",
      "metadata": {
        "colab": {
          "base_uri": "https://localhost:8080/"
        },
        "id": "OJoD8dCEOZG9",
        "outputId": "c2db4e2c-934a-47af-e135-fc36ecc7fd6b"
      },
      "source": [
        "# Esta es para entrenar con todo\n",
        "if split_type == 'no_split':\n",
        "    df_train = df\n",
        "elif split_type == 'last_week':\n",
        "    # Esto divide en train y val\n",
        "    df_train = df[df.Date < datetime.datetime(2015, 7, 1)]  \n",
        "    df_val = df[df.Date >= datetime.datetime(2015, 7, 1)]\n",
        "    print(f'Cantidad en val: {len(df_val)}, porcentaje: {len(df_train)/(len(df_train) + len(df_val))}')\n",
        "elif split_type == 'random':\n",
        "    # Splitting aleatorio\n",
        "    np.random.seed(42)\n",
        "    indexes = np.arange(len(df))\n",
        "    np.random.shuffle(indexes)\n",
        "    N = len(df)//5\n",
        "    df_train = df[N:]\n",
        "    df_val = df[:N]\n",
        "    print(f'Cantidad en val: {len(df_val)}, porcentaje: {len(df_val)/(len(df_train) + len(df_val))}')"
      ],
      "execution_count": null,
      "outputs": [
        {
          "output_type": "stream",
          "text": [
            "Cantidad en val: 30188, porcentaje: 0.9642465458145908\n"
          ],
          "name": "stdout"
        }
      ]
    },
    {
      "cell_type": "code",
      "metadata": {
        "id": "VIegC7sfOZG_"
      },
      "source": [
        "X_train = df_train[cat_vars + contin_vars]\n",
        "if split_type != 'no_split':\n",
        "    X_val = df_val[cat_vars + contin_vars]\n",
        "X_test = df_test[cat_vars + contin_vars]"
      ],
      "execution_count": null,
      "outputs": []
    },
    {
      "cell_type": "code",
      "metadata": {
        "id": "VxGPcRzWOZHB"
      },
      "source": [
        "log_output = True\n",
        "    \n",
        "if log_output:\n",
        "    # Escala logaritmica\n",
        "    max_log_y = np.max(np.log(df[y_out_columns])).values\n",
        "    y_train = np.log(df_train[y_out_columns].values)/max_log_y\n",
        "    if split_type != 'no_split':\n",
        "        y_val = np.log(df_val[y_out_columns].values)/max_log_y\n",
        "else:\n",
        "    # Normalización\n",
        "    y_mean = df_train[y_out_columns].mean().values\n",
        "    y_std = df_train[y_out_columns].std().values\n",
        "    y_train = (df_train[y_out_columns].values - y_mean)/y_std\n",
        "    if split_type != 'no_split':\n",
        "        y_val = (df_val[y_out_columns].values - y_mean)/y_std"
      ],
      "execution_count": null,
      "outputs": []
    },
    {
      "cell_type": "code",
      "metadata": {
        "id": "XPkw6WSlOZHB"
      },
      "source": [
        "from sklearn.model_selection import cross_val_score\n",
        "from hyperopt import hp, tpe\n",
        "from hyperopt.fmin import fmin"
      ],
      "execution_count": null,
      "outputs": []
    },
    {
      "cell_type": "code",
      "metadata": {
        "id": "7yTKFUC2OZHC"
      },
      "source": [
        "def calculate_RMSE(X, y, log_output=True):\n",
        "    y_preds = np.exp(model.predict(X, verbose=1)*max_log_y)\n",
        "    return np.sqrt((((y - y_preds)/y)**2).sum()/len(y_preds))"
      ],
      "execution_count": null,
      "outputs": []
    },
    {
      "cell_type": "code",
      "metadata": {
        "colab": {
          "base_uri": "https://localhost:8080/"
        },
        "id": "syFMymNBOZHC",
        "outputId": "31e57030-0a2a-4334-eb64-e3f5ece1586d"
      },
      "source": [
        "X_train.shape"
      ],
      "execution_count": null,
      "outputs": [
        {
          "output_type": "execute_result",
          "data": {
            "text/plain": [
              "(814150, 40)"
            ]
          },
          "metadata": {
            "tags": []
          },
          "execution_count": 25
        }
      ]
    },
    {
      "cell_type": "code",
      "metadata": {
        "id": "btPNhUz-OZHD"
      },
      "source": [
        "def objective(params):\n",
        "    params = {\n",
        "        # 'max_depth': int(params['max_depth']),\n",
        "        # 'colsample_bytree': '{:.3f}'.format(params['colsample_bytree']),\n",
        "        'learning_rate': '{:.4f}'.format(params['learning_rate'])\n",
        "    }\n",
        "    \n",
        "    clf = LGBMRegressor(\n",
        "        n_estimators=4000,\n",
        "        min_child_samples= 5, max_depth= -1,\n",
        "        **params\n",
        "    )\n",
        "    \n",
        "    score = -cross_val_score(clf, X_train.values, y_train.reshape(-1)).mean()\n",
        "    return score"
      ],
      "execution_count": null,
      "outputs": []
    },
    {
      "cell_type": "code",
      "metadata": {
        "colab": {
          "base_uri": "https://localhost:8080/"
        },
        "id": "nGyQC9zxOZHD",
        "outputId": "f7dea5b8-ad8c-49cb-e279-ecab7db82e05"
      },
      "source": [
        "space = {\n",
        "    # 'max_depth': hp.quniform('max_depth', 1, 64, 4),\n",
        "    # 'colsample_bytree': hp.uniform('colsample_bytree', 0.5, 1.0),\n",
        "    'learning_rate': hp.loguniform('learning_rate', -4, -2)\n",
        "}\n",
        "\n",
        "best = fmin(fn=objective,\n",
        "            space=space,\n",
        "            verbose=2,\n",
        "            algo=tpe.suggest,\n",
        "            max_evals=10)"
      ],
      "execution_count": null,
      "outputs": [
        {
          "output_type": "stream",
          "text": [
            "100%|██████████| 10/10 [3:48:03<00:00, 1368.35s/it, best loss: -0.9081774092969035]\n"
          ],
          "name": "stdout"
        }
      ]
    },
    {
      "cell_type": "code",
      "metadata": {
        "id": "GPagQcOBOZHE",
        "outputId": "3b6525ec-daae-473f-d701-955956c625c3"
      },
      "source": [
        "best"
      ],
      "execution_count": null,
      "outputs": [
        {
          "output_type": "execute_result",
          "data": {
            "text/plain": [
              "{'learning_rate': 0.10054532290551892}"
            ]
          },
          "metadata": {
            "tags": []
          },
          "execution_count": 34
        }
      ]
    },
    {
      "cell_type": "code",
      "metadata": {
        "id": "AyYOYZLjOZHE"
      },
      "source": [
        "from sklearn.model_selection import GridSearchCV"
      ],
      "execution_count": null,
      "outputs": []
    },
    {
      "cell_type": "code",
      "metadata": {
        "id": "P2_xj06-OZHF"
      },
      "source": [
        "parameters = {'learning_rate':[0.001, 0.05, 0.1, 0.5], 'max_depth':[1, 7, 31, 63]}\n",
        "grid_search_res_1 = {'learning_rate': 0.05, 'min_child_samples': 5, 'max_depth': -1}\n",
        "grid_search_res_2 = {'learning_rate': 0.05, 'max_depth': 7, 'min_child_samples': 20}"
      ],
      "execution_count": null,
      "outputs": []
    },
    {
      "cell_type": "code",
      "metadata": {
        "id": "NUzIFbojOZHF"
      },
      "source": [
        "min_child_samples = 5\n",
        "n_estimators = 4000\n",
        "learning_rate = 0.1\n",
        "model = LGBMRegressor(n_estimators=n_estimators, **grid_search_res_2)"
      ],
      "execution_count": null,
      "outputs": []
    },
    {
      "cell_type": "code",
      "metadata": {
        "id": "sZY3n5agOZHF",
        "outputId": "4e8d10b5-009c-4a7f-8ac7-f77f48261119"
      },
      "source": [
        "clf = GridSearchCV(model, parameters, n_jobs=-1, verbose=1, cv=3)"
      ],
      "execution_count": null,
      "outputs": [
        {
          "output_type": "error",
          "ename": "NameError",
          "evalue": "name 'GridSearchCV' is not defined",
          "traceback": [
            "\u001b[0;31m---------------------------------------------------------------------------\u001b[0m",
            "\u001b[0;31mNameError\u001b[0m                                 Traceback (most recent call last)",
            "\u001b[0;32m<ipython-input-38-a1cb92b22f77>\u001b[0m in \u001b[0;36m<module>\u001b[0;34m\u001b[0m\n\u001b[0;32m----> 1\u001b[0;31m \u001b[0mclf\u001b[0m \u001b[0;34m=\u001b[0m \u001b[0mGridSearchCV\u001b[0m\u001b[0;34m(\u001b[0m\u001b[0mmodel\u001b[0m\u001b[0;34m,\u001b[0m \u001b[0mparameters\u001b[0m\u001b[0;34m,\u001b[0m \u001b[0mn_jobs\u001b[0m\u001b[0;34m=\u001b[0m\u001b[0;34m-\u001b[0m\u001b[0;36m1\u001b[0m\u001b[0;34m,\u001b[0m \u001b[0mverbose\u001b[0m\u001b[0;34m=\u001b[0m\u001b[0;36m1\u001b[0m\u001b[0;34m,\u001b[0m \u001b[0mcv\u001b[0m\u001b[0;34m=\u001b[0m\u001b[0;36m3\u001b[0m\u001b[0;34m)\u001b[0m\u001b[0;34m\u001b[0m\u001b[0;34m\u001b[0m\u001b[0m\n\u001b[0m",
            "\u001b[0;31mNameError\u001b[0m: name 'GridSearchCV' is not defined"
          ]
        }
      ]
    },
    {
      "cell_type": "code",
      "metadata": {
        "id": "6TlC0-nnOZHF"
      },
      "source": [
        "fit_params={ \"eval_metric\" : 'l2', \n",
        "            'verbose': 100,\n",
        "            'feature_name': 'auto', # that's actually the default\n",
        "            'categorical_feature': cat_vars}\n",
        "if split_type != 'no_split':\n",
        "    fit_params[\"eval_set\"] = [(X_val, y_val.reshape(-1))]\n",
        "    fit_params[\"early_stopping_rounds\"] = 100"
      ],
      "execution_count": null,
      "outputs": []
    },
    {
      "cell_type": "code",
      "metadata": {
        "id": "10nlRuVTOZHF",
        "outputId": "18dc9af0-0ad8-46c0-d40a-08fba0838ccb"
      },
      "source": [
        "# clf.fit(X_train, y_train.reshape(-1), **fit_params)\n",
        "model.fit(X_train, y_train.reshape(-1), **fit_params)"
      ],
      "execution_count": null,
      "outputs": [
        {
          "output_type": "stream",
          "text": [
            "Training until validation scores don't improve for 100 rounds.\n",
            "[100]\tvalid_0's l2: 0.000278838\tvalid_0's l2: 0.000278838\n",
            "[200]\tvalid_0's l2: 0.000205993\tvalid_0's l2: 0.000205993\n",
            "[300]\tvalid_0's l2: 0.000166847\tvalid_0's l2: 0.000166847\n",
            "[400]\tvalid_0's l2: 0.000148417\tvalid_0's l2: 0.000148417\n",
            "[500]\tvalid_0's l2: 0.000137431\tvalid_0's l2: 0.000137431\n",
            "[600]\tvalid_0's l2: 0.000130973\tvalid_0's l2: 0.000130973\n",
            "[700]\tvalid_0's l2: 0.000125796\tvalid_0's l2: 0.000125796\n",
            "[800]\tvalid_0's l2: 0.0001229\tvalid_0's l2: 0.0001229\n",
            "[900]\tvalid_0's l2: 0.000120087\tvalid_0's l2: 0.000120087\n",
            "[1000]\tvalid_0's l2: 0.000118255\tvalid_0's l2: 0.000118255\n",
            "[1100]\tvalid_0's l2: 0.000116602\tvalid_0's l2: 0.000116602\n",
            "[1200]\tvalid_0's l2: 0.000115523\tvalid_0's l2: 0.000115523\n",
            "[1300]\tvalid_0's l2: 0.000114763\tvalid_0's l2: 0.000114763\n",
            "[1400]\tvalid_0's l2: 0.000113678\tvalid_0's l2: 0.000113678\n",
            "[1500]\tvalid_0's l2: 0.000113048\tvalid_0's l2: 0.000113048\n",
            "[1600]\tvalid_0's l2: 0.000112622\tvalid_0's l2: 0.000112622\n",
            "[1700]\tvalid_0's l2: 0.000112394\tvalid_0's l2: 0.000112394\n",
            "[1800]\tvalid_0's l2: 0.000112031\tvalid_0's l2: 0.000112031\n",
            "[1900]\tvalid_0's l2: 0.00011168\tvalid_0's l2: 0.00011168\n",
            "[2000]\tvalid_0's l2: 0.000111396\tvalid_0's l2: 0.000111396\n",
            "[2100]\tvalid_0's l2: 0.000111187\tvalid_0's l2: 0.000111187\n",
            "[2200]\tvalid_0's l2: 0.000110892\tvalid_0's l2: 0.000110892\n",
            "[2300]\tvalid_0's l2: 0.000110773\tvalid_0's l2: 0.000110773\n",
            "[2400]\tvalid_0's l2: 0.000110449\tvalid_0's l2: 0.000110449\n",
            "[2500]\tvalid_0's l2: 0.000110332\tvalid_0's l2: 0.000110332\n",
            "[2600]\tvalid_0's l2: 0.000110353\tvalid_0's l2: 0.000110353\n",
            "[2700]\tvalid_0's l2: 0.000110043\tvalid_0's l2: 0.000110043\n",
            "[2800]\tvalid_0's l2: 0.000109971\tvalid_0's l2: 0.000109971\n",
            "[2900]\tvalid_0's l2: 0.00010993\tvalid_0's l2: 0.00010993\n",
            "[3000]\tvalid_0's l2: 0.000109794\tvalid_0's l2: 0.000109794\n",
            "[3100]\tvalid_0's l2: 0.000109683\tvalid_0's l2: 0.000109683\n",
            "[3200]\tvalid_0's l2: 0.000109689\tvalid_0's l2: 0.000109689\n",
            "Early stopping, best iteration is:\n",
            "[3103]\tvalid_0's l2: 0.000109673\tvalid_0's l2: 0.000109673\n"
          ],
          "name": "stdout"
        },
        {
          "output_type": "execute_result",
          "data": {
            "text/plain": [
              "LGBMRegressor(boosting_type='gbdt', class_weight=None, colsample_bytree=1.0,\n",
              "              importance_type='split', learning_rate=0.05, max_depth=7,\n",
              "              min_child_samples=20, min_child_weight=0.001, min_split_gain=0.0,\n",
              "              n_estimators=4000, n_jobs=-1, num_leaves=31, objective=None,\n",
              "              random_state=None, reg_alpha=0.0, reg_lambda=0.0, silent=True,\n",
              "              subsample=1.0, subsample_for_bin=200000, subsample_freq=0)"
            ]
          },
          "metadata": {
            "tags": []
          },
          "execution_count": 42
        }
      ]
    },
    {
      "cell_type": "code",
      "metadata": {
        "id": "Ig85EFysOZHG",
        "outputId": "07def26f-773a-4833-994c-bc0308ad9be6"
      },
      "source": [
        "clf"
      ],
      "execution_count": null,
      "outputs": [
        {
          "output_type": "execute_result",
          "data": {
            "text/plain": [
              "GridSearchCV(cv=3, error_score='raise-deprecating',\n",
              "             estimator=LGBMRegressor(boosting_type='gbdt', class_weight=None,\n",
              "                                     colsample_bytree=1.0,\n",
              "                                     importance_type='split',\n",
              "                                     learning_rate=0.05, max_depth=7,\n",
              "                                     min_child_samples=20,\n",
              "                                     min_child_weight=0.001, min_split_gain=0.0,\n",
              "                                     n_estimators=4000, n_jobs=-1,\n",
              "                                     num_leaves=31, objective=None,\n",
              "                                     random_state=None, reg_alpha=0.0,\n",
              "                                     reg_lambda=0.0, silent=True, subsample=1.0,\n",
              "                                     subsample_for_bin=200000,\n",
              "                                     subsample_freq=0),\n",
              "             iid='warn', n_jobs=-1,\n",
              "             param_grid={'learning_rate': [0.001, 0.05, 0.1, 0.5],\n",
              "                         'max_depth': [1, 7, 31, 63]},\n",
              "             pre_dispatch='2*n_jobs', refit=True, return_train_score=False,\n",
              "             scoring=None, verbose=1)"
            ]
          },
          "metadata": {
            "tags": []
          },
          "execution_count": 43
        }
      ]
    },
    {
      "cell_type": "code",
      "metadata": {
        "id": "ZKIOrIc_OZHH"
      },
      "source": [
        "# clf.best_params_"
      ],
      "execution_count": null,
      "outputs": []
    },
    {
      "cell_type": "code",
      "metadata": {
        "id": "eZh9lZAHOZHH"
      },
      "source": [
        "# clf.best_score_"
      ],
      "execution_count": null,
      "outputs": []
    },
    {
      "cell_type": "markdown",
      "metadata": {
        "id": "Nw5_9mckOZHH"
      },
      "source": [
        "# Métrica"
      ]
    },
    {
      "cell_type": "markdown",
      "metadata": {
        "id": "6Sgnj0u6OZHH"
      },
      "source": [
        "$$\n",
        "\\textrm{RMSE} = \\sqrt{\\frac{1}{n} \\sum_{i=1}^{n} \\left(\\frac{\\hat{y}_i - y_i}{y_i}\\right)^2}\n",
        "$$"
      ]
    },
    {
      "cell_type": "code",
      "metadata": {
        "id": "8n967AK-OZHH",
        "outputId": "a3c62be3-6ea6-4efe-c397-1a6ae12129d0"
      },
      "source": [
        "model.score(X_val, y_val)"
      ],
      "execution_count": null,
      "outputs": [
        {
          "output_type": "execute_result",
          "data": {
            "text/plain": [
              "0.9231718729428571"
            ]
          },
          "metadata": {
            "tags": []
          },
          "execution_count": 53
        }
      ]
    },
    {
      "cell_type": "code",
      "metadata": {
        "id": "AknAMyNiOZHI"
      },
      "source": [
        "if log_output:\n",
        "    y_pred_train = np.exp(model.predict(X_train, verbose=1)*max_log_y)\n",
        "    y_pred = np.exp(model.predict(X_val, verbose=1)*max_log_y)\n",
        "    y_pred_test = np.exp(model.predict(X_test, verbose=1)*max_log_y)\n",
        "else:\n",
        "    y_pred_train = model.predict(X_train, verbose=1)*y_std + y_mean\n",
        "    y_pred = model.predict(X_val, verbose=1)*y_std + y_mean\n",
        "    y_pred_test = model.predict(X_test, verbose=1)*y_std + y_mean"
      ],
      "execution_count": null,
      "outputs": []
    },
    {
      "cell_type": "code",
      "metadata": {
        "id": "WiBz6tVrOZHI",
        "outputId": "f3ca70b8-a895-4b4c-d784-861947849820"
      },
      "source": [
        "# Train\n",
        "np.sqrt((((df_train['Sales'].values - y_pred_train)/df_train['Sales'].values)**2).sum()/len(y_pred_train))"
      ],
      "execution_count": null,
      "outputs": [
        {
          "output_type": "execute_result",
          "data": {
            "text/plain": [
              "0.08101860769764169"
            ]
          },
          "metadata": {
            "tags": []
          },
          "execution_count": 48
        }
      ]
    },
    {
      "cell_type": "code",
      "metadata": {
        "id": "AycL3W8MOZHI",
        "outputId": "79d2ce65-3347-4b81-fdb0-6e257512986e"
      },
      "source": [
        "# Validación\n",
        "np.sqrt((((df_val['Sales'].values - y_pred)/df_val['Sales'].values)**2).sum()/len(y_pred))"
      ],
      "execution_count": null,
      "outputs": [
        {
          "output_type": "execute_result",
          "data": {
            "text/plain": [
              "0.11929361858557005"
            ]
          },
          "metadata": {
            "tags": []
          },
          "execution_count": 55
        }
      ]
    },
    {
      "cell_type": "code",
      "metadata": {
        "id": "45ciPu6ZOZHJ",
        "outputId": "bfbc388d-55aa-4c68-d96d-6829708a0a0d"
      },
      "source": [
        "calculate_RMSE(X_train, df_train['Sales'].values)"
      ],
      "execution_count": null,
      "outputs": [
        {
          "output_type": "execute_result",
          "data": {
            "text/plain": [
              "0.08101860769764169"
            ]
          },
          "metadata": {
            "tags": []
          },
          "execution_count": 57
        }
      ]
    },
    {
      "cell_type": "code",
      "metadata": {
        "id": "KjT8AkemOZHK",
        "outputId": "ff0c66ff-7b90-4089-a0c1-7f2d1ad0821b"
      },
      "source": [
        "calculate_RMSE(X_val, df_val['Sales'].values)"
      ],
      "execution_count": null,
      "outputs": [
        {
          "output_type": "execute_result",
          "data": {
            "text/plain": [
              "0.11929361858557005"
            ]
          },
          "metadata": {
            "tags": []
          },
          "execution_count": 58
        }
      ]
    },
    {
      "cell_type": "markdown",
      "metadata": {
        "id": "jwK_wY19OZHK"
      },
      "source": [
        "# Sumbit a la competición"
      ]
    },
    {
      "cell_type": "code",
      "metadata": {
        "id": "-n2gBKgtOZHK"
      },
      "source": [
        "sample_csv = pd.read_csv('dataset/rossmann/sample_submission.csv')\n",
        "sample_csv['Sales'] = y_pred_test\n",
        "sample_csv.head()\n",
        "\n",
        "sample_csv.to_csv(f'submision_lightgbm_{split_type}-{log_output}-{min_child_samples}-{n_estimators}-{learning_rate}.csv', index=False)"
      ],
      "execution_count": null,
      "outputs": []
    },
    {
      "cell_type": "code",
      "metadata": {
        "id": "XU80htd1OZHK"
      },
      "source": [
        ""
      ],
      "execution_count": null,
      "outputs": []
    }
  ]
}