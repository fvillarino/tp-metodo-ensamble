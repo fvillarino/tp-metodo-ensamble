{
  "nbformat": 4,
  "nbformat_minor": 0,
  "metadata": {
    "kernelspec": {
      "display_name": "Python 3",
      "language": "python",
      "name": "python3"
    },
    "language_info": {
      "codemirror_mode": {
        "name": "ipython",
        "version": 3
      },
      "file_extension": ".py",
      "mimetype": "text/x-python",
      "name": "python",
      "nbconvert_exporter": "python",
      "pygments_lexer": "ipython3",
      "version": "3.8.5"
    },
    "colab": {
      "name": "08-XGBoost.ipynb",
      "provenance": [],
      "collapsed_sections": [
        "zywfvpMY17Gh"
      ],
      "include_colab_link": true
    },
    "accelerator": "GPU"
  },
  "cells": [
    {
      "cell_type": "markdown",
      "metadata": {
        "id": "view-in-github",
        "colab_type": "text"
      },
      "source": [
        "<a href=\"https://colab.research.google.com/github/fvillarino/tp-metodo-ensamble/blob/main/08_XGBoost.ipynb\" target=\"_parent\"><img src=\"https://colab.research.google.com/assets/colab-badge.svg\" alt=\"Open In Colab\"/></a>"
      ]
    },
    {
      "cell_type": "code",
      "metadata": {
        "id": "2T8i3JOr17GB"
      },
      "source": [
        "from tensorflow.compat.v1 import ConfigProto\n",
        "from tensorflow.compat.v1 import InteractiveSession\n",
        "config = ConfigProto()\n",
        "config.gpu_options.allow_growth = True\n",
        "session = InteractiveSession(config=config)"
      ],
      "execution_count": null,
      "outputs": []
    },
    {
      "cell_type": "markdown",
      "metadata": {
        "id": "KvhUGtYn17GH"
      },
      "source": [
        "https://www.youtube.com/watch?v=1-NYPQw5THU&feature=youtu.be"
      ]
    },
    {
      "cell_type": "code",
      "metadata": {
        "id": "jD-FaDXD17GJ"
      },
      "source": [
        "import pandas as pd\n",
        "import numpy as np\n",
        "import datetime\n",
        "#from pandas_summary import DataFrameSummary\n",
        "from sklearn.preprocessing import OneHotEncoder\n",
        "from keras.models import load_model"
      ],
      "execution_count": null,
      "outputs": []
    },
    {
      "cell_type": "code",
      "metadata": {
        "colab": {
          "base_uri": "https://localhost:8080/"
        },
        "id": "EMby4KU02Cve",
        "outputId": "c7c1037d-e983-4bbd-edc8-97e00f18985e"
      },
      "source": [
        "from google.colab import drive\n",
        "\n",
        "folder='drive/MyDrive/Colab Notebooks/Kaggle/Rossman/'\n",
        "drive.mount('/content/drive')"
      ],
      "execution_count": null,
      "outputs": [
        {
          "output_type": "stream",
          "text": [
            "Mounted at /content/drive\n"
          ],
          "name": "stdout"
        }
      ]
    },
    {
      "cell_type": "code",
      "metadata": {
        "id": "16C3iFRc2DNj"
      },
      "source": [
        ""
      ],
      "execution_count": null,
      "outputs": []
    },
    {
      "cell_type": "code",
      "metadata": {
        "id": "3dKv5VOM17GJ"
      },
      "source": [
        "df = pd.read_feather(folder+'train_normalized_data.fth')\n",
        "df_test = pd.read_feather(folder+'test_normalized_data.fth')"
      ],
      "execution_count": null,
      "outputs": []
    },
    {
      "cell_type": "code",
      "metadata": {
        "id": "_atJ8Kjx17GK"
      },
      "source": [
        "cat_vars = ['Store', 'DayOfWeek', 'Year', 'Month', 'Day', 'StateHoliday', 'CompetitionMonthsOpen', 'Promo2Weeks', \n",
        "            'StoreType', 'Assortment', 'PromoInterval', 'CompetitionOpenSinceYear', 'Promo2SinceYear', 'State', \n",
        "            'Week', 'Events', 'Promo_fw', 'Promo_bw', 'StateHoliday_bool_fw', 'StateHoliday_bool_bw', 'SchoolHoliday_fw', 'SchoolHoliday_bw']\n",
        "\n",
        "# cat_vars = ['Store', 'DayOfWeek', 'Year', 'Month', 'Day', 'State']\n"
      ],
      "execution_count": null,
      "outputs": []
    },
    {
      "cell_type": "code",
      "metadata": {
        "id": "KQkzrSmw17GK"
      },
      "source": [
        "contin_vars = ['CompetitionDistance', \n",
        "   'Max_TemperatureC', 'Mean_TemperatureC', 'Min_TemperatureC', 'Precipitationmm',\n",
        "   'Max_Humidity', 'Mean_Humidity', 'Min_Humidity', 'Max_Wind_SpeedKm_h', \n",
        "   'Mean_Wind_SpeedKm_h', 'CloudCover', 'trend', 'trend_DE',\n",
        "   'AfterStateHoliday_bool', 'BeforeStateHoliday_bool', 'Promo', 'SchoolHoliday', 'StateHoliday_bool']\n",
        "# contin_vars = []"
      ],
      "execution_count": null,
      "outputs": []
    },
    {
      "cell_type": "code",
      "metadata": {
        "id": "cwYmnyPa17GL"
      },
      "source": [
        "y_out_columns = ['Sales']"
      ],
      "execution_count": null,
      "outputs": []
    },
    {
      "cell_type": "code",
      "metadata": {
        "colab": {
          "base_uri": "https://localhost:8080/"
        },
        "id": "9PbbjpRV17GU",
        "outputId": "df407dec-eb65-42c5-c3b3-4c8c7fbb3c10"
      },
      "source": [
        "df_train = df[df.Date < datetime.datetime(2015, 7, 1)]  \n",
        "df_val = df[df.Date >= datetime.datetime(2015, 7, 1)]\n",
        "print(f'Cantidad en val: {len(df_val)}, porcentaje: {len(df_train)/(len(df_train) + len(df_val))}')"
      ],
      "execution_count": null,
      "outputs": [
        {
          "output_type": "stream",
          "text": [
            "Cantidad en val: 30188, porcentaje: 0.9642465458145908\n"
          ],
          "name": "stdout"
        }
      ]
    },
    {
      "cell_type": "code",
      "metadata": {
        "id": "O08wIyQL17GV"
      },
      "source": [
        "X_train = df_train[cat_vars + contin_vars]\n",
        "X_val = df_val[cat_vars + contin_vars]\n",
        "X_test = df_test[cat_vars + contin_vars]"
      ],
      "execution_count": null,
      "outputs": []
    },
    {
      "cell_type": "code",
      "metadata": {
        "colab": {
          "base_uri": "https://localhost:8080/"
        },
        "id": "TNOd914t17GW",
        "outputId": "bd4fd862-9637-41d3-c1ea-dd0aee038b13"
      },
      "source": [
        "X_train.shape, X_val.shape"
      ],
      "execution_count": null,
      "outputs": [
        {
          "output_type": "execute_result",
          "data": {
            "text/plain": [
              "((814150, 40), (30188, 40))"
            ]
          },
          "metadata": {
            "tags": []
          },
          "execution_count": 12
        }
      ]
    },
    {
      "cell_type": "code",
      "metadata": {
        "id": "rsuD7HcN17GX"
      },
      "source": [
        "log_output = False\n",
        "    \n",
        "if log_output:\n",
        "    # Escala logaritmica\n",
        "    max_log_y = np.max(np.log(df[y_out_columns])).values\n",
        "    y_train = np.log(df_train[y_out_columns].values)/max_log_y\n",
        "    y_val = np.log(df_val[y_out_columns].values)/max_log_y\n",
        "else:\n",
        "    # Normalización\n",
        "    y_mean = df_train[y_out_columns].mean().values\n",
        "    y_std = df_train[y_out_columns].std().values\n",
        "    y_train = (df_train[y_out_columns].values - y_mean)/y_std\n",
        "    y_val = (df_val[y_out_columns].values - y_mean)/y_std"
      ],
      "execution_count": null,
      "outputs": []
    },
    {
      "cell_type": "markdown",
      "metadata": {
        "id": "b8jY5tFA17GZ"
      },
      "source": [
        "## Categorical columns transformation"
      ]
    },
    {
      "cell_type": "code",
      "metadata": {
        "id": "_EtGf8_i17GZ"
      },
      "source": [
        "# categoricals_processing = 'no_categoricals'\n",
        "#categoricals_processing = 'use_onehotencoding'\n",
        "categoricals_processing = 'use_embeddings'"
      ],
      "execution_count": null,
      "outputs": []
    },
    {
      "cell_type": "code",
      "metadata": {
        "colab": {
          "base_uri": "https://localhost:8080/",
          "height": 444
        },
        "id": "-uoBFJtV3Fum",
        "outputId": "0e37ab00-1cca-4c1d-b71d-48f84f6d5317"
      },
      "source": [
        "X_train"
      ],
      "execution_count": null,
      "outputs": [
        {
          "output_type": "execute_result",
          "data": {
            "text/html": [
              "<div>\n",
              "<style scoped>\n",
              "    .dataframe tbody tr th:only-of-type {\n",
              "        vertical-align: middle;\n",
              "    }\n",
              "\n",
              "    .dataframe tbody tr th {\n",
              "        vertical-align: top;\n",
              "    }\n",
              "\n",
              "    .dataframe thead th {\n",
              "        text-align: right;\n",
              "    }\n",
              "</style>\n",
              "<table border=\"1\" class=\"dataframe\">\n",
              "  <thead>\n",
              "    <tr style=\"text-align: right;\">\n",
              "      <th></th>\n",
              "      <th>Store</th>\n",
              "      <th>DayOfWeek</th>\n",
              "      <th>Year</th>\n",
              "      <th>Month</th>\n",
              "      <th>Day</th>\n",
              "      <th>StateHoliday</th>\n",
              "      <th>CompetitionMonthsOpen</th>\n",
              "      <th>Promo2Weeks</th>\n",
              "      <th>StoreType</th>\n",
              "      <th>Assortment</th>\n",
              "      <th>PromoInterval</th>\n",
              "      <th>CompetitionOpenSinceYear</th>\n",
              "      <th>Promo2SinceYear</th>\n",
              "      <th>State</th>\n",
              "      <th>Week</th>\n",
              "      <th>Events</th>\n",
              "      <th>Promo_fw</th>\n",
              "      <th>Promo_bw</th>\n",
              "      <th>StateHoliday_bool_fw</th>\n",
              "      <th>StateHoliday_bool_bw</th>\n",
              "      <th>SchoolHoliday_fw</th>\n",
              "      <th>SchoolHoliday_bw</th>\n",
              "      <th>CompetitionDistance</th>\n",
              "      <th>Max_TemperatureC</th>\n",
              "      <th>Mean_TemperatureC</th>\n",
              "      <th>Min_TemperatureC</th>\n",
              "      <th>Precipitationmm</th>\n",
              "      <th>Max_Humidity</th>\n",
              "      <th>Mean_Humidity</th>\n",
              "      <th>Min_Humidity</th>\n",
              "      <th>Max_Wind_SpeedKm_h</th>\n",
              "      <th>Mean_Wind_SpeedKm_h</th>\n",
              "      <th>CloudCover</th>\n",
              "      <th>trend</th>\n",
              "      <th>trend_DE</th>\n",
              "      <th>AfterStateHoliday_bool</th>\n",
              "      <th>BeforeStateHoliday_bool</th>\n",
              "      <th>Promo</th>\n",
              "      <th>SchoolHoliday</th>\n",
              "      <th>StateHoliday_bool</th>\n",
              "    </tr>\n",
              "  </thead>\n",
              "  <tbody>\n",
              "    <tr>\n",
              "      <th>30188</th>\n",
              "      <td>0</td>\n",
              "      <td>1</td>\n",
              "      <td>2</td>\n",
              "      <td>5</td>\n",
              "      <td>29</td>\n",
              "      <td>0</td>\n",
              "      <td>24</td>\n",
              "      <td>25</td>\n",
              "      <td>2</td>\n",
              "      <td>0</td>\n",
              "      <td>0</td>\n",
              "      <td>13</td>\n",
              "      <td>0</td>\n",
              "      <td>4</td>\n",
              "      <td>26</td>\n",
              "      <td>20</td>\n",
              "      <td>4</td>\n",
              "      <td>2</td>\n",
              "      <td>0</td>\n",
              "      <td>0</td>\n",
              "      <td>0</td>\n",
              "      <td>0</td>\n",
              "      <td>-0.511043</td>\n",
              "      <td>1.733265</td>\n",
              "      <td>1.509328</td>\n",
              "      <td>1.099074</td>\n",
              "      <td>-0.315778</td>\n",
              "      <td>-0.166351</td>\n",
              "      <td>-2.192275</td>\n",
              "      <td>-1.932272</td>\n",
              "      <td>0.036585</td>\n",
              "      <td>-0.317234</td>\n",
              "      <td>-2.314268</td>\n",
              "      <td>0.950700</td>\n",
              "      <td>0.807334</td>\n",
              "      <td>-0.349784</td>\n",
              "      <td>1.072424</td>\n",
              "      <td>1.273237</td>\n",
              "      <td>-0.466372</td>\n",
              "      <td>-0.177442</td>\n",
              "    </tr>\n",
              "    <tr>\n",
              "      <th>30189</th>\n",
              "      <td>1</td>\n",
              "      <td>1</td>\n",
              "      <td>2</td>\n",
              "      <td>5</td>\n",
              "      <td>29</td>\n",
              "      <td>0</td>\n",
              "      <td>24</td>\n",
              "      <td>25</td>\n",
              "      <td>0</td>\n",
              "      <td>0</td>\n",
              "      <td>2</td>\n",
              "      <td>12</td>\n",
              "      <td>2</td>\n",
              "      <td>11</td>\n",
              "      <td>26</td>\n",
              "      <td>20</td>\n",
              "      <td>4</td>\n",
              "      <td>2</td>\n",
              "      <td>0</td>\n",
              "      <td>0</td>\n",
              "      <td>0</td>\n",
              "      <td>0</td>\n",
              "      <td>-0.593412</td>\n",
              "      <td>1.378855</td>\n",
              "      <td>1.233050</td>\n",
              "      <td>0.944269</td>\n",
              "      <td>-0.315778</td>\n",
              "      <td>-0.684665</td>\n",
              "      <td>-1.283627</td>\n",
              "      <td>-1.117041</td>\n",
              "      <td>-1.081931</td>\n",
              "      <td>-0.656379</td>\n",
              "      <td>-0.493858</td>\n",
              "      <td>0.950700</td>\n",
              "      <td>0.807334</td>\n",
              "      <td>-0.029087</td>\n",
              "      <td>1.072424</td>\n",
              "      <td>1.273237</td>\n",
              "      <td>-0.466372</td>\n",
              "      <td>-0.177442</td>\n",
              "    </tr>\n",
              "    <tr>\n",
              "      <th>30190</th>\n",
              "      <td>2</td>\n",
              "      <td>1</td>\n",
              "      <td>2</td>\n",
              "      <td>5</td>\n",
              "      <td>29</td>\n",
              "      <td>0</td>\n",
              "      <td>24</td>\n",
              "      <td>25</td>\n",
              "      <td>0</td>\n",
              "      <td>0</td>\n",
              "      <td>2</td>\n",
              "      <td>11</td>\n",
              "      <td>3</td>\n",
              "      <td>6</td>\n",
              "      <td>26</td>\n",
              "      <td>0</td>\n",
              "      <td>4</td>\n",
              "      <td>2</td>\n",
              "      <td>0</td>\n",
              "      <td>0</td>\n",
              "      <td>5</td>\n",
              "      <td>2</td>\n",
              "      <td>1.002195</td>\n",
              "      <td>1.733265</td>\n",
              "      <td>1.371189</td>\n",
              "      <td>0.944269</td>\n",
              "      <td>-0.315778</td>\n",
              "      <td>0.092806</td>\n",
              "      <td>-1.359348</td>\n",
              "      <td>-1.422752</td>\n",
              "      <td>-0.410822</td>\n",
              "      <td>-1.165096</td>\n",
              "      <td>-1.859165</td>\n",
              "      <td>1.479808</td>\n",
              "      <td>0.807334</td>\n",
              "      <td>-0.349784</td>\n",
              "      <td>1.072424</td>\n",
              "      <td>1.273237</td>\n",
              "      <td>2.144211</td>\n",
              "      <td>-0.177442</td>\n",
              "    </tr>\n",
              "    <tr>\n",
              "      <th>30191</th>\n",
              "      <td>3</td>\n",
              "      <td>1</td>\n",
              "      <td>2</td>\n",
              "      <td>5</td>\n",
              "      <td>29</td>\n",
              "      <td>0</td>\n",
              "      <td>24</td>\n",
              "      <td>25</td>\n",
              "      <td>2</td>\n",
              "      <td>2</td>\n",
              "      <td>0</td>\n",
              "      <td>14</td>\n",
              "      <td>0</td>\n",
              "      <td>0</td>\n",
              "      <td>26</td>\n",
              "      <td>20</td>\n",
              "      <td>4</td>\n",
              "      <td>2</td>\n",
              "      <td>0</td>\n",
              "      <td>0</td>\n",
              "      <td>0</td>\n",
              "      <td>0</td>\n",
              "      <td>-0.587528</td>\n",
              "      <td>1.260719</td>\n",
              "      <td>1.509328</td>\n",
              "      <td>1.718295</td>\n",
              "      <td>-0.315778</td>\n",
              "      <td>-1.462136</td>\n",
              "      <td>-1.737951</td>\n",
              "      <td>-1.422752</td>\n",
              "      <td>-0.187118</td>\n",
              "      <td>-0.317234</td>\n",
              "      <td>-0.493858</td>\n",
              "      <td>-0.019329</td>\n",
              "      <td>0.807334</td>\n",
              "      <td>-0.029087</td>\n",
              "      <td>1.072424</td>\n",
              "      <td>1.273237</td>\n",
              "      <td>-0.466372</td>\n",
              "      <td>-0.177442</td>\n",
              "    </tr>\n",
              "    <tr>\n",
              "      <th>30192</th>\n",
              "      <td>4</td>\n",
              "      <td>1</td>\n",
              "      <td>2</td>\n",
              "      <td>5</td>\n",
              "      <td>29</td>\n",
              "      <td>0</td>\n",
              "      <td>2</td>\n",
              "      <td>25</td>\n",
              "      <td>0</td>\n",
              "      <td>0</td>\n",
              "      <td>0</td>\n",
              "      <td>20</td>\n",
              "      <td>0</td>\n",
              "      <td>9</td>\n",
              "      <td>26</td>\n",
              "      <td>20</td>\n",
              "      <td>4</td>\n",
              "      <td>2</td>\n",
              "      <td>0</td>\n",
              "      <td>0</td>\n",
              "      <td>0</td>\n",
              "      <td>0</td>\n",
              "      <td>2.859029</td>\n",
              "      <td>1.378855</td>\n",
              "      <td>1.509328</td>\n",
              "      <td>1.408685</td>\n",
              "      <td>-0.315778</td>\n",
              "      <td>-0.684665</td>\n",
              "      <td>-1.132186</td>\n",
              "      <td>-1.066089</td>\n",
              "      <td>-0.970080</td>\n",
              "      <td>-0.317234</td>\n",
              "      <td>-0.038755</td>\n",
              "      <td>-0.460252</td>\n",
              "      <td>0.807334</td>\n",
              "      <td>-0.349784</td>\n",
              "      <td>1.072424</td>\n",
              "      <td>1.273237</td>\n",
              "      <td>-0.466372</td>\n",
              "      <td>-0.177442</td>\n",
              "    </tr>\n",
              "    <tr>\n",
              "      <th>...</th>\n",
              "      <td>...</td>\n",
              "      <td>...</td>\n",
              "      <td>...</td>\n",
              "      <td>...</td>\n",
              "      <td>...</td>\n",
              "      <td>...</td>\n",
              "      <td>...</td>\n",
              "      <td>...</td>\n",
              "      <td>...</td>\n",
              "      <td>...</td>\n",
              "      <td>...</td>\n",
              "      <td>...</td>\n",
              "      <td>...</td>\n",
              "      <td>...</td>\n",
              "      <td>...</td>\n",
              "      <td>...</td>\n",
              "      <td>...</td>\n",
              "      <td>...</td>\n",
              "      <td>...</td>\n",
              "      <td>...</td>\n",
              "      <td>...</td>\n",
              "      <td>...</td>\n",
              "      <td>...</td>\n",
              "      <td>...</td>\n",
              "      <td>...</td>\n",
              "      <td>...</td>\n",
              "      <td>...</td>\n",
              "      <td>...</td>\n",
              "      <td>...</td>\n",
              "      <td>...</td>\n",
              "      <td>...</td>\n",
              "      <td>...</td>\n",
              "      <td>...</td>\n",
              "      <td>...</td>\n",
              "      <td>...</td>\n",
              "      <td>...</td>\n",
              "      <td>...</td>\n",
              "      <td>...</td>\n",
              "      <td>...</td>\n",
              "      <td>...</td>\n",
              "    </tr>\n",
              "    <tr>\n",
              "      <th>844333</th>\n",
              "      <td>681</td>\n",
              "      <td>1</td>\n",
              "      <td>0</td>\n",
              "      <td>0</td>\n",
              "      <td>0</td>\n",
              "      <td>1</td>\n",
              "      <td>24</td>\n",
              "      <td>25</td>\n",
              "      <td>1</td>\n",
              "      <td>0</td>\n",
              "      <td>0</td>\n",
              "      <td>11</td>\n",
              "      <td>0</td>\n",
              "      <td>0</td>\n",
              "      <td>0</td>\n",
              "      <td>10</td>\n",
              "      <td>1</td>\n",
              "      <td>0</td>\n",
              "      <td>1</td>\n",
              "      <td>1</td>\n",
              "      <td>4</td>\n",
              "      <td>1</td>\n",
              "      <td>-0.642833</td>\n",
              "      <td>-0.747604</td>\n",
              "      <td>-0.424620</td>\n",
              "      <td>-0.139368</td>\n",
              "      <td>-0.012096</td>\n",
              "      <td>0.870277</td>\n",
              "      <td>0.306506</td>\n",
              "      <td>0.615325</td>\n",
              "      <td>0.372140</td>\n",
              "      <td>1.039345</td>\n",
              "      <td>0.416347</td>\n",
              "      <td>0.421593</td>\n",
              "      <td>-0.440285</td>\n",
              "      <td>-1.183596</td>\n",
              "      <td>1.072424</td>\n",
              "      <td>-0.785400</td>\n",
              "      <td>2.144211</td>\n",
              "      <td>5.635633</td>\n",
              "    </tr>\n",
              "    <tr>\n",
              "      <th>844334</th>\n",
              "      <td>732</td>\n",
              "      <td>1</td>\n",
              "      <td>0</td>\n",
              "      <td>0</td>\n",
              "      <td>0</td>\n",
              "      <td>1</td>\n",
              "      <td>24</td>\n",
              "      <td>25</td>\n",
              "      <td>1</td>\n",
              "      <td>1</td>\n",
              "      <td>0</td>\n",
              "      <td>4</td>\n",
              "      <td>0</td>\n",
              "      <td>6</td>\n",
              "      <td>0</td>\n",
              "      <td>10</td>\n",
              "      <td>1</td>\n",
              "      <td>0</td>\n",
              "      <td>1</td>\n",
              "      <td>1</td>\n",
              "      <td>4</td>\n",
              "      <td>1</td>\n",
              "      <td>-0.559288</td>\n",
              "      <td>-0.747604</td>\n",
              "      <td>-0.839037</td>\n",
              "      <td>-0.603784</td>\n",
              "      <td>1.714099</td>\n",
              "      <td>0.092806</td>\n",
              "      <td>0.987991</td>\n",
              "      <td>0.768180</td>\n",
              "      <td>1.826211</td>\n",
              "      <td>2.395924</td>\n",
              "      <td>0.416347</td>\n",
              "      <td>-0.195698</td>\n",
              "      <td>-0.440285</td>\n",
              "      <td>-1.183596</td>\n",
              "      <td>1.072424</td>\n",
              "      <td>-0.785400</td>\n",
              "      <td>2.144211</td>\n",
              "      <td>5.635633</td>\n",
              "    </tr>\n",
              "    <tr>\n",
              "      <th>844335</th>\n",
              "      <td>768</td>\n",
              "      <td>1</td>\n",
              "      <td>0</td>\n",
              "      <td>0</td>\n",
              "      <td>0</td>\n",
              "      <td>1</td>\n",
              "      <td>24</td>\n",
              "      <td>5</td>\n",
              "      <td>1</td>\n",
              "      <td>1</td>\n",
              "      <td>2</td>\n",
              "      <td>0</td>\n",
              "      <td>4</td>\n",
              "      <td>6</td>\n",
              "      <td>0</td>\n",
              "      <td>10</td>\n",
              "      <td>1</td>\n",
              "      <td>0</td>\n",
              "      <td>1</td>\n",
              "      <td>1</td>\n",
              "      <td>4</td>\n",
              "      <td>1</td>\n",
              "      <td>-0.561641</td>\n",
              "      <td>-0.747604</td>\n",
              "      <td>-0.839037</td>\n",
              "      <td>-0.603784</td>\n",
              "      <td>1.714099</td>\n",
              "      <td>0.092806</td>\n",
              "      <td>0.987991</td>\n",
              "      <td>0.768180</td>\n",
              "      <td>1.826211</td>\n",
              "      <td>2.395924</td>\n",
              "      <td>0.416347</td>\n",
              "      <td>-0.195698</td>\n",
              "      <td>-0.440285</td>\n",
              "      <td>-1.183596</td>\n",
              "      <td>1.072424</td>\n",
              "      <td>-0.785400</td>\n",
              "      <td>2.144211</td>\n",
              "      <td>5.635633</td>\n",
              "    </tr>\n",
              "    <tr>\n",
              "      <th>844336</th>\n",
              "      <td>947</td>\n",
              "      <td>1</td>\n",
              "      <td>0</td>\n",
              "      <td>0</td>\n",
              "      <td>0</td>\n",
              "      <td>1</td>\n",
              "      <td>24</td>\n",
              "      <td>25</td>\n",
              "      <td>1</td>\n",
              "      <td>1</td>\n",
              "      <td>0</td>\n",
              "      <td>0</td>\n",
              "      <td>0</td>\n",
              "      <td>1</td>\n",
              "      <td>0</td>\n",
              "      <td>1</td>\n",
              "      <td>1</td>\n",
              "      <td>0</td>\n",
              "      <td>2</td>\n",
              "      <td>1</td>\n",
              "      <td>4</td>\n",
              "      <td>1</td>\n",
              "      <td>-0.492216</td>\n",
              "      <td>-0.747604</td>\n",
              "      <td>-0.977176</td>\n",
              "      <td>-1.223006</td>\n",
              "      <td>-0.215883</td>\n",
              "      <td>-0.036773</td>\n",
              "      <td>0.457947</td>\n",
              "      <td>0.054854</td>\n",
              "      <td>0.036585</td>\n",
              "      <td>-0.995523</td>\n",
              "      <td>0.416347</td>\n",
              "      <td>-0.548436</td>\n",
              "      <td>-0.440285</td>\n",
              "      <td>-1.183596</td>\n",
              "      <td>1.072424</td>\n",
              "      <td>-0.785400</td>\n",
              "      <td>2.144211</td>\n",
              "      <td>5.635633</td>\n",
              "    </tr>\n",
              "    <tr>\n",
              "      <th>844337</th>\n",
              "      <td>1096</td>\n",
              "      <td>1</td>\n",
              "      <td>0</td>\n",
              "      <td>0</td>\n",
              "      <td>0</td>\n",
              "      <td>1</td>\n",
              "      <td>24</td>\n",
              "      <td>25</td>\n",
              "      <td>1</td>\n",
              "      <td>1</td>\n",
              "      <td>0</td>\n",
              "      <td>7</td>\n",
              "      <td>0</td>\n",
              "      <td>7</td>\n",
              "      <td>0</td>\n",
              "      <td>10</td>\n",
              "      <td>1</td>\n",
              "      <td>0</td>\n",
              "      <td>1</td>\n",
              "      <td>1</td>\n",
              "      <td>4</td>\n",
              "      <td>1</td>\n",
              "      <td>-0.575761</td>\n",
              "      <td>-0.747604</td>\n",
              "      <td>-0.562759</td>\n",
              "      <td>-0.294174</td>\n",
              "      <td>-0.215883</td>\n",
              "      <td>-0.166351</td>\n",
              "      <td>0.079344</td>\n",
              "      <td>0.462469</td>\n",
              "      <td>0.372140</td>\n",
              "      <td>1.208917</td>\n",
              "      <td>1.326552</td>\n",
              "      <td>-2.576680</td>\n",
              "      <td>-0.440285</td>\n",
              "      <td>-1.183596</td>\n",
              "      <td>1.072424</td>\n",
              "      <td>-0.785400</td>\n",
              "      <td>2.144211</td>\n",
              "      <td>5.635633</td>\n",
              "    </tr>\n",
              "  </tbody>\n",
              "</table>\n",
              "<p>814150 rows × 40 columns</p>\n",
              "</div>"
            ],
            "text/plain": [
              "        Store  DayOfWeek  Year  ...     Promo  SchoolHoliday  StateHoliday_bool\n",
              "30188       0          1     2  ...  1.273237      -0.466372          -0.177442\n",
              "30189       1          1     2  ...  1.273237      -0.466372          -0.177442\n",
              "30190       2          1     2  ...  1.273237       2.144211          -0.177442\n",
              "30191       3          1     2  ...  1.273237      -0.466372          -0.177442\n",
              "30192       4          1     2  ...  1.273237      -0.466372          -0.177442\n",
              "...       ...        ...   ...  ...       ...            ...                ...\n",
              "844333    681          1     0  ... -0.785400       2.144211           5.635633\n",
              "844334    732          1     0  ... -0.785400       2.144211           5.635633\n",
              "844335    768          1     0  ... -0.785400       2.144211           5.635633\n",
              "844336    947          1     0  ... -0.785400       2.144211           5.635633\n",
              "844337   1096          1     0  ... -0.785400       2.144211           5.635633\n",
              "\n",
              "[814150 rows x 40 columns]"
            ]
          },
          "metadata": {
            "tags": []
          },
          "execution_count": 15
        }
      ]
    },
    {
      "cell_type": "code",
      "metadata": {
        "colab": {
          "base_uri": "https://localhost:8080/"
        },
        "id": "08RYYVU817GZ",
        "outputId": "04549d67-af86-46c1-caca-b27ef497e0fb"
      },
      "source": [
        "if categoricals_processing == 'use_embeddings':\n",
        "    embeddings_model = load_model(folder+'embeddings_model.hdf5')\n",
        "    X_train = embeddings_model.predict(np.hsplit(X_train, X_train.shape[1]), verbose=1)\n",
        "    X_val = embeddings_model.predict(np.hsplit(X_val, X_val.shape[1]), verbose=1)\n",
        "    X_test = embeddings_model.predict(np.hsplit(X_test, X_test.shape[1]), verbose=1)"
      ],
      "execution_count": null,
      "outputs": [
        {
          "output_type": "stream",
          "text": [
            "WARNING:tensorflow:No training configuration found in the save file, so the model was *not* compiled. Compile it manually.\n",
            "25443/25443 [==============================] - 101s 4ms/step\n",
            "944/944 [==============================] - 4s 4ms/step\n",
            "1284/1284 [==============================] - 8s 6ms/step\n"
          ],
          "name": "stdout"
        }
      ]
    },
    {
      "cell_type": "code",
      "metadata": {
        "colab": {
          "base_uri": "https://localhost:8080/"
        },
        "id": "44KS7yEL38ci",
        "outputId": "664b87f6-adf6-4c5e-ac92-3d1512c98aa9"
      },
      "source": [
        "X_train.shape"
      ],
      "execution_count": null,
      "outputs": [
        {
          "output_type": "execute_result",
          "data": {
            "text/plain": [
              "(814150, 146)"
            ]
          },
          "metadata": {
            "tags": []
          },
          "execution_count": 17
        }
      ]
    },
    {
      "cell_type": "code",
      "metadata": {
        "id": "xmmVSd7L17Ga"
      },
      "source": [
        "if categoricals_processing == 'use_onehotencoding':\n",
        "    # Use One Hot Encoding\n",
        "    categorical_feature_mask = [col in cat_vars for col in X_train.columns]\n",
        "    ohe = OneHotEncoder(categorical_features = categorical_feature_mask)\n",
        "    ohe.fit(X_train)\n",
        "    X_train = ohe.transform(X_train)\n",
        "    X_val = ohe.transform(X_val)\n",
        "    X_test = ohe.transform(X_test)"
      ],
      "execution_count": null,
      "outputs": []
    },
    {
      "cell_type": "code",
      "metadata": {
        "colab": {
          "base_uri": "https://localhost:8080/"
        },
        "id": "PpEgUKAb17Gb",
        "outputId": "981507ab-3845-4dbc-86e0-c6febab1d00e"
      },
      "source": [
        "X_train.shape"
      ],
      "execution_count": null,
      "outputs": [
        {
          "output_type": "execute_result",
          "data": {
            "text/plain": [
              "(814150, 146)"
            ]
          },
          "metadata": {
            "tags": []
          },
          "execution_count": 19
        }
      ]
    },
    {
      "cell_type": "code",
      "metadata": {
        "colab": {
          "base_uri": "https://localhost:8080/"
        },
        "id": "FSNQPfUp17Gb",
        "outputId": "c875b2db-13ae-4c91-b34f-b5fe16fb12d8"
      },
      "source": [
        "X_val.shape"
      ],
      "execution_count": null,
      "outputs": [
        {
          "output_type": "execute_result",
          "data": {
            "text/plain": [
              "(30188, 146)"
            ]
          },
          "metadata": {
            "tags": []
          },
          "execution_count": 20
        }
      ]
    },
    {
      "cell_type": "code",
      "metadata": {
        "colab": {
          "base_uri": "https://localhost:8080/"
        },
        "id": "Vsk7IEIB17Gb",
        "outputId": "4eaaba2f-63c3-4139-bd0b-1f465a1bd19a"
      },
      "source": [
        "X_test.shape"
      ],
      "execution_count": null,
      "outputs": [
        {
          "output_type": "execute_result",
          "data": {
            "text/plain": [
              "(41088, 146)"
            ]
          },
          "metadata": {
            "tags": []
          },
          "execution_count": 21
        }
      ]
    },
    {
      "cell_type": "markdown",
      "metadata": {
        "id": "zn-dxN4717Gc"
      },
      "source": [
        "## XGBoost"
      ]
    },
    {
      "cell_type": "code",
      "metadata": {
        "id": "TGL3gMo-17Gd"
      },
      "source": [
        "import xgboost as xgb\n",
        "from xgboost.sklearn import XGBRegressor"
      ],
      "execution_count": null,
      "outputs": []
    },
    {
      "cell_type": "code",
      "metadata": {
        "colab": {
          "base_uri": "https://localhost:8080/"
        },
        "id": "n7zN7uhI17Gd",
        "outputId": "c122a421-9b58-4327-cb05-c32247babff7"
      },
      "source": [
        "n_estimators=2000\n",
        "learning_rate=0.25\n",
        "model = XGBRegressor(n_estimators=n_estimators, learning_rate=learning_rate, \n",
        "                     objective='reg:squarederror', n_jobs=12, max_depth=8, gamma=0.005)\n",
        "model"
      ],
      "execution_count": null,
      "outputs": [
        {
          "output_type": "execute_result",
          "data": {
            "text/plain": [
              "XGBRegressor(base_score=0.5, booster='gbtree', colsample_bylevel=1,\n",
              "             colsample_bynode=1, colsample_bytree=1, gamma=0.005,\n",
              "             importance_type='gain', learning_rate=0.25, max_delta_step=0,\n",
              "             max_depth=8, min_child_weight=1, missing=None, n_estimators=2000,\n",
              "             n_jobs=12, nthread=None, objective='reg:squarederror',\n",
              "             random_state=0, reg_alpha=0, reg_lambda=1, scale_pos_weight=1,\n",
              "             seed=None, silent=None, subsample=1, verbosity=1)"
            ]
          },
          "metadata": {
            "tags": []
          },
          "execution_count": 23
        }
      ]
    },
    {
      "cell_type": "code",
      "metadata": {
        "id": "TBwcrRWC17Gd"
      },
      "source": [
        "fit_params={\"early_stopping_rounds\":100, \n",
        "            \"eval_metric\" : 'rmse', \n",
        "            \"eval_set\" : [(X_val, y_val.reshape(-1))],\n",
        "            'verbose': 100,\n",
        "           }"
      ],
      "execution_count": null,
      "outputs": []
    },
    {
      "cell_type": "code",
      "metadata": {
        "colab": {
          "base_uri": "https://localhost:8080/"
        },
        "id": "jqNPA2vi17Gd",
        "outputId": "baa7c22c-7152-4c33-8d8a-53f3d92d68e5"
      },
      "source": [
        "model.fit(X_train, y_train.reshape(-1), **fit_params)"
      ],
      "execution_count": null,
      "outputs": [
        {
          "output_type": "stream",
          "text": [
            "[0]\tvalidation_0-rmse:0.834685\n",
            "Will train until validation_0-rmse hasn't improved in 100 rounds.\n",
            "[100]\tvalidation_0-rmse:0.338185\n",
            "[200]\tvalidation_0-rmse:0.333007\n",
            "[300]\tvalidation_0-rmse:0.338696\n",
            "Stopping. Best iteration:\n",
            "[242]\tvalidation_0-rmse:0.331511\n",
            "\n"
          ],
          "name": "stdout"
        },
        {
          "output_type": "execute_result",
          "data": {
            "text/plain": [
              "XGBRegressor(base_score=0.5, booster='gbtree', colsample_bylevel=1,\n",
              "             colsample_bynode=1, colsample_bytree=1, gamma=0.005,\n",
              "             importance_type='gain', learning_rate=0.25, max_delta_step=0,\n",
              "             max_depth=8, min_child_weight=1, missing=None, n_estimators=2000,\n",
              "             n_jobs=12, nthread=None, objective='reg:squarederror',\n",
              "             random_state=0, reg_alpha=0, reg_lambda=1, scale_pos_weight=1,\n",
              "             seed=None, silent=None, subsample=1, verbosity=1)"
            ]
          },
          "metadata": {
            "tags": []
          },
          "execution_count": 25
        }
      ]
    },
    {
      "cell_type": "markdown",
      "metadata": {
        "id": "NnlBZAiU17Gd"
      },
      "source": [
        "# Métrica"
      ]
    },
    {
      "cell_type": "markdown",
      "metadata": {
        "id": "b49ViOR717Ge"
      },
      "source": [
        "$$\n",
        "\\textrm{RMSE} = \\sqrt{\\frac{1}{n} \\sum_{i=1}^{n} \\left(\\frac{\\hat{y}_i - y_i}{y_i}\\right)^2}\n",
        "$$"
      ]
    },
    {
      "cell_type": "code",
      "metadata": {
        "id": "TUwP5Yks17Ge"
      },
      "source": [
        "score = model.score(X_val, y_val)"
      ],
      "execution_count": null,
      "outputs": []
    },
    {
      "cell_type": "code",
      "metadata": {
        "colab": {
          "base_uri": "https://localhost:8080/"
        },
        "id": "gLgQONGbFwRi",
        "outputId": "27530ace-8870-4e9b-8e34-1f80334f0dca"
      },
      "source": [
        "score"
      ],
      "execution_count": null,
      "outputs": [
        {
          "output_type": "execute_result",
          "data": {
            "text/plain": [
              "0.845965350160118"
            ]
          },
          "metadata": {
            "tags": []
          },
          "execution_count": 46
        }
      ]
    },
    {
      "cell_type": "code",
      "metadata": {
        "id": "lwKNP37Q17Gf"
      },
      "source": [
        "if log_output:\n",
        "    y_pred_train = np.exp(model.predict(X_train)*max_log_y)\n",
        "    y_pred = np.exp(model.predict(X_val)*max_log_y)\n",
        "    y_pred_test = np.exp(model.predict(X_test)*max_log_y)\n",
        "else:\n",
        "    y_pred_train = model.predict(X_train)*y_std + y_mean\n",
        "    y_pred = model.predict(X_val)*y_std + y_mean\n",
        "    y_pred_test = model.predict(X_test)*y_std + y_mean"
      ],
      "execution_count": null,
      "outputs": []
    },
    {
      "cell_type": "code",
      "metadata": {
        "id": "4sJY99u-17Gf"
      },
      "source": [
        "# Train\n",
        "train_RMSE = np.sqrt((((df_train['Sales'].values - y_pred_train)/df_train['Sales'].values)**2).sum()/len(y_pred_train))"
      ],
      "execution_count": null,
      "outputs": []
    },
    {
      "cell_type": "code",
      "metadata": {
        "id": "Fyfv3Qe217Gg"
      },
      "source": [
        "# Validación\n",
        "val_RMSE = np.sqrt((((df_val['Sales'].values - y_pred)/df_val['Sales'].values)**2).sum()/len(y_pred))"
      ],
      "execution_count": null,
      "outputs": []
    },
    {
      "cell_type": "code",
      "metadata": {
        "colab": {
          "base_uri": "https://localhost:8080/"
        },
        "id": "OHlW0j1N17Gg",
        "outputId": "fef0e511-2f28-4eed-cd6a-5f02871b28c0"
      },
      "source": [
        "print(score, train_RMSE, val_RMSE)"
      ],
      "execution_count": null,
      "outputs": [
        {
          "output_type": "stream",
          "text": [
            "0.8768031658903396 0.1558973858437227 0.16123555251774463\n"
          ],
          "name": "stdout"
        }
      ]
    },
    {
      "cell_type": "markdown",
      "metadata": {
        "id": "Si4GKKGZGxpe"
      },
      "source": [
        "0.8768031658903396 0.1558973858437227 0.16123555251774463 -> n_estimator = 4000, lr = 0.25, gamma=0.005\n",
        "\n",
        "0.845965350160118 0.1667512806236896 0.1836922340149614 -> n_estimator = 2000, lr = 0.5, gamma=0.01\n",
        "\n",
        "0.8768031658903396 0.1558973858437227 0.16123555251774463 -> n_estimator = 2000, lr=0.25, gamma=0.005\n",
        "\n",
        "\n"
      ]
    },
    {
      "cell_type": "code",
      "metadata": {
        "colab": {
          "base_uri": "https://localhost:8080/"
        },
        "id": "7buYS9mSGGhZ",
        "outputId": "74f395e3-af13-4663-bc34-4dc0e68f32a0"
      },
      "source": [
        "model."
      ],
      "execution_count": null,
      "outputs": [
        {
          "output_type": "execute_result",
          "data": {
            "text/plain": [
              "242"
            ]
          },
          "metadata": {
            "tags": []
          },
          "execution_count": 35
        }
      ]
    },
    {
      "cell_type": "markdown",
      "metadata": {
        "id": "zywfvpMY17Gh"
      },
      "source": [
        "# Baseline"
      ]
    },
    {
      "cell_type": "code",
      "metadata": {
        "id": "FgikMU5q17Gh"
      },
      "source": [
        "import pandas as pd\n",
        "sample_csv = pd.read_csv('dataset/rossmann/sample_submission.csv')"
      ],
      "execution_count": null,
      "outputs": []
    },
    {
      "cell_type": "code",
      "metadata": {
        "id": "kZ4CXl5y17Gh"
      },
      "source": [
        "stores_mean = {}\n",
        "for store, g_df in df.groupby('Store'):\n",
        "    stores_mean[store] = g_df[g_df['Sales'] > 0]['Sales'].mean()"
      ],
      "execution_count": null,
      "outputs": []
    },
    {
      "cell_type": "code",
      "metadata": {
        "id": "RdTKNnL817Gh"
      },
      "source": [
        "df_test['Sales'] = df_test['Store'].apply(stores_mean.get)\n",
        "df_test.loc[df_test['Open'] == 0, 'Sales'] = 0"
      ],
      "execution_count": null,
      "outputs": []
    },
    {
      "cell_type": "code",
      "metadata": {
        "id": "MaOf7LM717Gi",
        "outputId": "6db0d774-06ed-4c7b-ef5a-c0d5bdbc25c1"
      },
      "source": [
        "df_test[['Store', 'Sales']].head(10)"
      ],
      "execution_count": null,
      "outputs": [
        {
          "output_type": "execute_result",
          "data": {
            "text/html": [
              "<div>\n",
              "<style scoped>\n",
              "    .dataframe tbody tr th:only-of-type {\n",
              "        vertical-align: middle;\n",
              "    }\n",
              "\n",
              "    .dataframe tbody tr th {\n",
              "        vertical-align: top;\n",
              "    }\n",
              "\n",
              "    .dataframe thead th {\n",
              "        text-align: right;\n",
              "    }\n",
              "</style>\n",
              "<table border=\"1\" class=\"dataframe\">\n",
              "  <thead>\n",
              "    <tr style=\"text-align: right;\">\n",
              "      <th></th>\n",
              "      <th>Store</th>\n",
              "      <th>Sales</th>\n",
              "    </tr>\n",
              "  </thead>\n",
              "  <tbody>\n",
              "    <tr>\n",
              "      <th>0</th>\n",
              "      <td>0</td>\n",
              "      <td>4759.096031</td>\n",
              "    </tr>\n",
              "    <tr>\n",
              "      <th>1</th>\n",
              "      <td>2</td>\n",
              "      <td>6942.568678</td>\n",
              "    </tr>\n",
              "    <tr>\n",
              "      <th>2</th>\n",
              "      <td>6</td>\n",
              "      <td>8817.050891</td>\n",
              "    </tr>\n",
              "    <tr>\n",
              "      <th>3</th>\n",
              "      <td>7</td>\n",
              "      <td>5539.358418</td>\n",
              "    </tr>\n",
              "    <tr>\n",
              "      <th>4</th>\n",
              "      <td>8</td>\n",
              "      <td>6562.337612</td>\n",
              "    </tr>\n",
              "    <tr>\n",
              "      <th>5</th>\n",
              "      <td>9</td>\n",
              "      <td>5568.420918</td>\n",
              "    </tr>\n",
              "    <tr>\n",
              "      <th>6</th>\n",
              "      <td>10</td>\n",
              "      <td>8030.977041</td>\n",
              "    </tr>\n",
              "    <tr>\n",
              "      <th>7</th>\n",
              "      <td>11</td>\n",
              "      <td>7589.598214</td>\n",
              "    </tr>\n",
              "    <tr>\n",
              "      <th>8</th>\n",
              "      <td>12</td>\n",
              "      <td>5034.747182</td>\n",
              "    </tr>\n",
              "    <tr>\n",
              "      <th>9</th>\n",
              "      <td>13</td>\n",
              "      <td>5508.567394</td>\n",
              "    </tr>\n",
              "  </tbody>\n",
              "</table>\n",
              "</div>"
            ],
            "text/plain": [
              "   Store        Sales\n",
              "0      0  4759.096031\n",
              "1      2  6942.568678\n",
              "2      6  8817.050891\n",
              "3      7  5539.358418\n",
              "4      8  6562.337612\n",
              "5      9  5568.420918\n",
              "6     10  8030.977041\n",
              "7     11  7589.598214\n",
              "8     12  5034.747182\n",
              "9     13  5508.567394"
            ]
          },
          "metadata": {
            "tags": []
          },
          "execution_count": 33
        }
      ]
    },
    {
      "cell_type": "code",
      "metadata": {
        "id": "x1DSqi1n17Gi",
        "outputId": "b1214ca7-45c9-4cc4-d6f8-04caaab43395"
      },
      "source": [
        "df_test[df_test['Open'] == 0][['Store', 'Sales']].head()"
      ],
      "execution_count": null,
      "outputs": [
        {
          "output_type": "execute_result",
          "data": {
            "text/html": [
              "<div>\n",
              "<style scoped>\n",
              "    .dataframe tbody tr th:only-of-type {\n",
              "        vertical-align: middle;\n",
              "    }\n",
              "\n",
              "    .dataframe tbody tr th {\n",
              "        vertical-align: top;\n",
              "    }\n",
              "\n",
              "    .dataframe thead th {\n",
              "        text-align: right;\n",
              "    }\n",
              "</style>\n",
              "<table border=\"1\" class=\"dataframe\">\n",
              "  <thead>\n",
              "    <tr style=\"text-align: right;\">\n",
              "      <th></th>\n",
              "      <th>Store</th>\n",
              "      <th>Sales</th>\n",
              "    </tr>\n",
              "  </thead>\n",
              "  <tbody>\n",
              "    <tr>\n",
              "      <th>543</th>\n",
              "      <td>702</td>\n",
              "      <td>0.0</td>\n",
              "    </tr>\n",
              "    <tr>\n",
              "      <th>676</th>\n",
              "      <td>878</td>\n",
              "      <td>0.0</td>\n",
              "    </tr>\n",
              "    <tr>\n",
              "      <th>840</th>\n",
              "      <td>1096</td>\n",
              "      <td>0.0</td>\n",
              "    </tr>\n",
              "    <tr>\n",
              "      <th>1399</th>\n",
              "      <td>702</td>\n",
              "      <td>0.0</td>\n",
              "    </tr>\n",
              "    <tr>\n",
              "      <th>1532</th>\n",
              "      <td>878</td>\n",
              "      <td>0.0</td>\n",
              "    </tr>\n",
              "  </tbody>\n",
              "</table>\n",
              "</div>"
            ],
            "text/plain": [
              "      Store  Sales\n",
              "543     702    0.0\n",
              "676     878    0.0\n",
              "840    1096    0.0\n",
              "1399    702    0.0\n",
              "1532    878    0.0"
            ]
          },
          "metadata": {
            "tags": []
          },
          "execution_count": 34
        }
      ]
    },
    {
      "cell_type": "code",
      "metadata": {
        "id": "sbl5sehV17Gi"
      },
      "source": [
        "sample_csv['Sales'] = df_test['Sales']"
      ],
      "execution_count": null,
      "outputs": []
    },
    {
      "cell_type": "code",
      "metadata": {
        "id": "38tX005A17Gj"
      },
      "source": [
        "sample_csv.to_csv(f'submision_baseline.csv', index=False)"
      ],
      "execution_count": null,
      "outputs": []
    },
    {
      "cell_type": "code",
      "metadata": {
        "id": "Zq5Bv_7h17Gk",
        "outputId": "3e1fcb5f-e0a3-4bfb-ea6e-90fb07263e82"
      },
      "source": [
        "sample_csv.head()"
      ],
      "execution_count": null,
      "outputs": [
        {
          "output_type": "execute_result",
          "data": {
            "text/html": [
              "<div>\n",
              "<style scoped>\n",
              "    .dataframe tbody tr th:only-of-type {\n",
              "        vertical-align: middle;\n",
              "    }\n",
              "\n",
              "    .dataframe tbody tr th {\n",
              "        vertical-align: top;\n",
              "    }\n",
              "\n",
              "    .dataframe thead th {\n",
              "        text-align: right;\n",
              "    }\n",
              "</style>\n",
              "<table border=\"1\" class=\"dataframe\">\n",
              "  <thead>\n",
              "    <tr style=\"text-align: right;\">\n",
              "      <th></th>\n",
              "      <th>Id</th>\n",
              "      <th>Sales</th>\n",
              "    </tr>\n",
              "  </thead>\n",
              "  <tbody>\n",
              "    <tr>\n",
              "      <th>0</th>\n",
              "      <td>1</td>\n",
              "      <td>4759.096031</td>\n",
              "    </tr>\n",
              "    <tr>\n",
              "      <th>1</th>\n",
              "      <td>2</td>\n",
              "      <td>6942.568678</td>\n",
              "    </tr>\n",
              "    <tr>\n",
              "      <th>2</th>\n",
              "      <td>3</td>\n",
              "      <td>8817.050891</td>\n",
              "    </tr>\n",
              "    <tr>\n",
              "      <th>3</th>\n",
              "      <td>4</td>\n",
              "      <td>5539.358418</td>\n",
              "    </tr>\n",
              "    <tr>\n",
              "      <th>4</th>\n",
              "      <td>5</td>\n",
              "      <td>6562.337612</td>\n",
              "    </tr>\n",
              "  </tbody>\n",
              "</table>\n",
              "</div>"
            ],
            "text/plain": [
              "   Id        Sales\n",
              "0   1  4759.096031\n",
              "1   2  6942.568678\n",
              "2   3  8817.050891\n",
              "3   4  5539.358418\n",
              "4   5  6562.337612"
            ]
          },
          "metadata": {
            "tags": []
          },
          "execution_count": 37
        }
      ]
    },
    {
      "cell_type": "markdown",
      "metadata": {
        "id": "w0gmLv-e17Gk"
      },
      "source": [
        "# Sumbit a la competición"
      ]
    },
    {
      "cell_type": "code",
      "metadata": {
        "id": "4GmsKGjx17Gk"
      },
      "source": [
        "sample_csv = pd.read_csv('dataset/rossmann/sample_submission.csv')\n",
        "sample_csv['Sales'] = y_pred_test\n",
        "sample_csv.head()\n",
        "\n",
        "sample_csv.to_csv(f'submision_XGBoost_{log_output}-{n_estimators}-{learning_rate}.csv', index=False)"
      ],
      "execution_count": null,
      "outputs": []
    }
  ]
}